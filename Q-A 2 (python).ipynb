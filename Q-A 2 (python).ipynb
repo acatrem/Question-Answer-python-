{
  "cells": [
    {
      "cell_type": "code",
      "execution_count": 6,
      "metadata": {
        "colab": {
          "base_uri": "https://localhost:8080/"
        },
        "id": "wD5mZ4mdF0Ik",
        "outputId": "f0ab1b23-9743-441c-a280-740236cf8491"
      },
      "outputs": [
        {
          "name": "stdout",
          "output_type": "stream",
          "text": [
            "{'name': 'Mehmet', 'age': 25}\n"
          ]
        }
      ],
      "source": [
        "#Q1 Write a Python function myFunction(dictionary, keyslist) that accepts a dictionary and a list of keys. \n",
        "#The function should remove the keys from the dictionary if they exist. \n",
        "#If a key does not exist in the dictionary, it should print a message saying the key is not found. \n",
        "#Finally, print the modified dictionary after performing the operations.\n",
        "\n",
        "def myFunction(dictionary,keyslist):\n",
        "  for key in keyslist:\n",
        "    if key in dictionary:\n",
        "      del dictionary[key]\n",
        "    else:\n",
        "      print(f\"Boyle bir ({key})key yok\")\n",
        "\n",
        "sample_dictionary={\"name\":\"Mehmet\",\n",
        "                   \"age\":25,\n",
        "                   \"id\":151220022021,\n",
        "                   \"city\":\"Eskisehir\"}\n",
        "\n",
        "keyslist=[\"id\",\"city\"]\n",
        "\n",
        "myFunction(sample_dictionary,keyslist)\n",
        "\n",
        "\n",
        "print(sample_dictionary)"
      ]
    },
    {
      "cell_type": "code",
      "execution_count": 7,
      "metadata": {
        "colab": {
          "base_uri": "https://localhost:8080/"
        },
        "id": "7XoV2QKybQnJ",
        "outputId": "710776ad-c8b6-44e0-d0f8-186d892b3347"
      },
      "outputs": [
        {
          "name": "stdout",
          "output_type": "stream",
          "text": [
            "Unique Values: {'S007', 'S002', 'S009', 'S001', 'S005'} \n",
            "Number of Occurence: [1, 1, 1, 2, 2] \n"
          ]
        }
      ],
      "source": [
        "#Q2 Write a Python function myFunction(dictionary) that accepts a list of dictionaries. The function should:\n",
        "#Extract all the values from the dictionaries in the list.\n",
        "#Identify and print the unique values.\n",
        "#Count how many times each unique value appears across all dictionaries and print the result.\n",
        "\n",
        "def myFunction(dictionary):\n",
        "  valueList=[]\n",
        "  for pairs in dictionary:\n",
        "    for values in pairs.values():\n",
        "      valueList.append(values)\n",
        "\n",
        "\n",
        "  uniqueValues=set(valueList)\n",
        "  print(f\"Unique Values: {uniqueValues} \")\n",
        "\n",
        "  hwmanyOccur=[]\n",
        "  for eachValue in uniqueValues:\n",
        "    hwmanyOccur.append(valueList.count(eachValue))\n",
        "\n",
        "  print(f\"Number of Occurence: {hwmanyOccur} \")\n",
        "\n",
        "\n",
        "\n",
        "\n",
        "\n",
        "sampleDict=[\n",
        "    {\"V\":\"S001\"},\n",
        "    {\"V\":\"S002\"},\n",
        "    {\"VI\":\"S001\"},\n",
        "    {\"VI\":\"S005\"},\n",
        "    {\"VII\":\"S005\"},\n",
        "    {\"V\":\"S009\"},\n",
        "    {\"VIII\":\"S007\"}\n",
        "]\n",
        "\n",
        "myFunction(sampleDict)\n",
        "\n"
      ]
    },
    {
      "cell_type": "code",
      "execution_count": 8,
      "metadata": {
        "colab": {
          "base_uri": "https://localhost:8080/"
        },
        "id": "WYEUo9EehFAa",
        "outputId": "5ed5c330-b4b2-4496-d758-4ad834742a9f"
      },
      "outputs": [
        {
          "name": "stdout",
          "output_type": "stream",
          "text": [
            "Index position and value of the maximum value of the said list:(5, 89)\n",
            "Index position and value of the minimum value of the said list:(3, 10.11)\n"
          ]
        }
      ],
      "source": [
        "#Q3 Write a Python function myFunction(myList) that takes a list of numbers as input. The function should:\n",
        "#Find the index and value of the maximum number in the list.\n",
        "#Find the index and value of the minimum number in the list.\n",
        "#Print the index position and value of both the maximum and minimum numbers.\n",
        "\n",
        "def myFunction(myList):\n",
        "  xKey=lambda x:x[1]\n",
        "  pairs=list(enumerate(myList))\n",
        "\n",
        "  maxINumber= max(pairs, key=xKey)\n",
        "  minINumber= min(pairs, key=xKey)\n",
        "\n",
        "  print(f\"Index position and value of the maximum value of the said list:{maxINumber}\")\n",
        "  print(f\"Index position and value of the minimum value of the said list:{minINumber}\")\n",
        "\n",
        "listOfNumbers=[12, 33, 23, 10.11, 67, 89, 45, 66.7, 23, 12, 11, 10.25, 54]\n",
        "\n",
        "myFunction(listOfNumbers)"
      ]
    },
    {
      "cell_type": "code",
      "execution_count": null,
      "metadata": {
        "colab": {
          "base_uri": "https://localhost:8080/"
        },
        "id": "jJEPIVD8leti",
        "outputId": "9f70680c-f133-4c06-c075-65590b18be4c"
      },
      "outputs": [
        {
          "name": "stdout",
          "output_type": "stream",
          "text": [
            "Output: [False False  True False] \n"
          ]
        }
      ],
      "source": [
        "#Q4 Write a Python function myFunction(nArray) that takes a NumPy array as input. \n",
        "#The function should check which elements in the array are NaN (Not a Number) and return a Boolean array indicating the positions of NaN values.\n",
        "\n",
        "import numpy as np\n",
        "\n",
        "def myFunction(nArray):\n",
        "  nA=np.isnan(nArray)\n",
        "  print(f\"Output: {nA} \")\n",
        "\n",
        "\n",
        "originalArray=([1,0,np.nan,35])\n",
        "myFunction(originalArray)"
      ]
    },
    {
      "cell_type": "code",
      "execution_count": 9,
      "metadata": {
        "colab": {
          "base_uri": "https://localhost:8080/"
        },
        "id": "7li_V3sNxeDW",
        "outputId": "5ad6810a-3f04-4742-8b56-fd289d2dd830"
      },
      "outputs": [
        {
          "name": "stdout",
          "output_type": "stream",
          "text": [
            "result:-1333800\n"
          ]
        }
      ],
      "source": [
        "#Q5 Write a Python function myFunction(dictionary) that takes a dictionary as input.\n",
        "#The function should multiply all the values in the dictionary together and print the resulting product.\n",
        "\n",
        "def myFunction(dictionary):\n",
        "  myResult=1\n",
        "  for x in dictionary.values():\n",
        "    myResult*=x\n",
        "  print(f\"result:{myResult}\")\n",
        "\n",
        "\n",
        "myDict={'data1':100,'data2':-54,'data3':247}\n",
        "myFunction(myDict)"
      ]
    }
  ],
  "metadata": {
    "colab": {
      "provenance": []
    },
    "kernelspec": {
      "display_name": "Python 3",
      "name": "python3"
    },
    "language_info": {
      "name": "python"
    }
  },
  "nbformat": 4,
  "nbformat_minor": 0
}
