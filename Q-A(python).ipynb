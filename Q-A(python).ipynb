{
 "cells": [
  {
   "cell_type": "code",
   "execution_count": null,
   "metadata": {},
   "outputs": [],
   "source": [
    "#Q1 Write a Python program that repeatedly prompts the user to input a number to calculate its factorial. \n",
    "#The program should stop when the user enters -1. \n",
    "#After the user exits, print the factorials calculated during the session, separated by commas.\n",
    "\n",
    "def factorial():\n",
    "  number=int(input(\"Bir sayi girin (cikmak icin '-1'): \"))\n",
    "  if number==0 or number==1:\n",
    "    return 1\n",
    "  elif number==-1:\n",
    "    return -1\n",
    "  i=1\n",
    "  result=1\n",
    "  while i<=number:\n",
    "    result*=i\n",
    "    i=i+1\n",
    "  return result\n",
    "\n",
    "factorialList=[]\n",
    "\n",
    "while True:\n",
    "  lastresult=factorial()\n",
    "  if lastresult==-1:\n",
    "    break\n",
    "  factorialList.append(str(lastresult))\n",
    "\n",
    "\n",
    "print(\",\".join(factorialList))\n",
    "\n"
   ]
  },
  {
   "cell_type": "code",
   "execution_count": null,
   "metadata": {
    "id": "VqbNtcf5S2Ri"
   },
   "outputs": [],
   "source": [
    "#Q2 Write a Python function findsameNumber() that takes a string of comma-separated numbers as input. \n",
    "#The function should return True if the first and last numbers in the list are the same, and False otherwise.\n",
    "\n",
    "def findsameNumber():\n",
    "  numbers=str(input(\"','le ayrilmis sekilde sayilari girin: \"))\n",
    "  seperatedNumbers=numbers.split(\",\")\n",
    "\n",
    "  if seperatedNumbers[0]==seperatedNumbers[-1]:\n",
    "    return True\n",
    "  else:\n",
    "    return False\n",
    "findsameNumber()\n",
    "\n",
    "\n"
   ]
  },
  {
   "cell_type": "code",
   "execution_count": null,
   "metadata": {
    "collapsed": true,
    "id": "uaBitWDAvRoR"
   },
   "outputs": [],
   "source": [
    "#Q3 Write another Python function divisibleBy5() that takes a string of comma-separated numbers\n",
    "#as input and prints all the numbers from the list that are divisible by 5.\n",
    "def divisibleBy5():\n",
    "  numbers=str(input(\"','le ayrilmis sekilde sayilari girin: \"))\n",
    "  seperatedNumbers=numbers.split(\",\")\n",
    "\n",
    "  i=0\n",
    "  while i<len(seperatedNumbers):\n",
    "    if int(seperatedNumbers[i])%5==0:\n",
    "      print(seperatedNumbers[i])\n",
    "    i+=1\n",
    "\n",
    "divisibleBy5()\n"
   ]
  },
  {
   "cell_type": "code",
   "execution_count": null,
   "metadata": {},
   "outputs": [],
   "source": [
    "#Write a Python function combineLists(list1, list2) that takes two lists as input. \n",
    "#The function should combine the two lists in such a way that the corresponding elements from both lists are added together\n",
    "#(e.g., if list1 = ['a', 'b'] and list2 = ['1', '2'], the result should be ['a1', 'b2']). \n",
    "#If one list is longer than the other, the remaining elements of the longer list should be added as they are.\n",
    "\n",
    "def combineLists(list1,list2):\n",
    "\n",
    "  combinedList=[]\n",
    "  i=0\n",
    "\n",
    "  while i<len(list1) or i<len(list2):\n",
    "\n",
    "    if i<len(list1) and i<len(list2):\n",
    "      combinedList.append(list1[i]+list2[i])\n",
    "    elif i<len(list1):\n",
    "      combinedList.append(list1[i])\n",
    "    else:\n",
    "      combinedList.append(list2[i])\n",
    "\n",
    "    i+=1\n",
    "  return combinedList\n",
    "\n",
    "inpList1=input(\"Birinci listeyi girin(girdiginiz elemanlari ',' ayirin): \")\n",
    "inpList2=input(\"Ikinci listeyi girin(girdiginiz elemanlari ',' ayirin): \")\n",
    "\n",
    "seperatedList1=inpList1.split(',')\n",
    "seperatedList2=inpList2.split(',')\n",
    "\n",
    "print(combineLists(seperatedList1,seperatedList2))"
   ]
  },
  {
   "cell_type": "code",
   "execution_count": null,
   "metadata": {
    "id": "oOukr5NsbN6_"
   },
   "outputs": [],
   "source": [
    "#Q5 Write another Python function removeSpace(xList) that takes a list as input \n",
    "#and removes all empty strings (i.e., strings that consist only of spaces).\n",
    "#After removing these empty strings, return the modified list.\n",
    "def removeSpace(xList):\n",
    "\n",
    "  i=0\n",
    "  while i<len(xList):\n",
    "    if xList[i].strip()==\"\":\n",
    "      xList.pop(i)\n",
    "    i+=1\n",
    "  return xList\n",
    "\n",
    "list=input(\"Listeyi girin(girdiginiz elemanlari ',' ayirin): \")\n",
    "seperatedList=list.split(',')\n",
    "\n",
    "print(removeSpace(seperatedList))\n"
   ]
  }
 ],
 "metadata": {
  "colab": {
   "authorship_tag": "ABX9TyM1vnZCpzAgRR3oUezkRso8",
   "provenance": []
  },
  "kernelspec": {
   "display_name": "Python 3",
   "name": "python3"
  },
  "language_info": {
   "name": "python"
  }
 },
 "nbformat": 4,
 "nbformat_minor": 0
}
